{
 "cells": [
  {
   "cell_type": "markdown",
   "metadata": {},
   "source": [
    "# Green AI project : Water polution"
   ]
  },
  {
   "cell_type": "markdown",
   "metadata": {},
   "source": [
    "## Importations"
   ]
  },
  {
   "cell_type": "code",
   "execution_count": 27,
   "metadata": {},
   "outputs": [],
   "source": [
    "import pandas as pd\n",
    "import seaborn as sns\n",
    "import numpy as np"
   ]
  },
  {
   "cell_type": "markdown",
   "metadata": {},
   "source": [
    "## Adding the dataset"
   ]
  },
  {
   "cell_type": "code",
   "execution_count": 41,
   "metadata": {},
   "outputs": [],
   "source": [
    "train = pd.read_csv(\"Train.csv\")\n",
    "test = pd.read_csv(\"Test.csv\")\n",
    "target = pd.read_csv(\"Target.csv\")\n",
    "submission = pd.read_csv(\"Submission.csv\")"
   ]
  },
  {
   "cell_type": "code",
   "execution_count": 29,
   "metadata": {},
   "outputs": [
    {
     "data": {
      "text/html": [
       "<div>\n",
       "<style scoped>\n",
       "    .dataframe tbody tr th:only-of-type {\n",
       "        vertical-align: middle;\n",
       "    }\n",
       "\n",
       "    .dataframe tbody tr th {\n",
       "        vertical-align: top;\n",
       "    }\n",
       "\n",
       "    .dataframe thead th {\n",
       "        text-align: right;\n",
       "    }\n",
       "</style>\n",
       "<table border=\"1\" class=\"dataframe\">\n",
       "  <thead>\n",
       "    <tr style=\"text-align: right;\">\n",
       "      <th></th>\n",
       "      <th>Unnamed: 0</th>\n",
       "      <th>code</th>\n",
       "      <th>year</th>\n",
       "      <th>period</th>\n",
       "      <th>id</th>\n",
       "      <th>Country</th>\n",
       "      <th>tourists</th>\n",
       "      <th>venue</th>\n",
       "      <th>rate</th>\n",
       "      <th>food</th>\n",
       "      <th>glass</th>\n",
       "      <th>metal</th>\n",
       "      <th>other</th>\n",
       "      <th>paper</th>\n",
       "      <th>plastic</th>\n",
       "      <th>leather</th>\n",
       "      <th>green_waste</th>\n",
       "      <th>waste_recycling</th>\n",
       "    </tr>\n",
       "  </thead>\n",
       "  <tbody>\n",
       "    <tr>\n",
       "      <th>0</th>\n",
       "      <td>6</td>\n",
       "      <td>CAS_7723-14-0</td>\n",
       "      <td>2009</td>\n",
       "      <td>2009-01--2009-12</td>\n",
       "      <td>ES014MSPFES-014-NR-038-000-02-02</td>\n",
       "      <td>Spain</td>\n",
       "      <td>50941692.0</td>\n",
       "      <td>4.0</td>\n",
       "      <td>87.158924</td>\n",
       "      <td>49.0</td>\n",
       "      <td>8.0</td>\n",
       "      <td>3.0</td>\n",
       "      <td>14.0</td>\n",
       "      <td>15.0</td>\n",
       "      <td>9.0</td>\n",
       "      <td>0.0</td>\n",
       "      <td>0.0</td>\n",
       "      <td>16.84</td>\n",
       "    </tr>\n",
       "    <tr>\n",
       "      <th>1</th>\n",
       "      <td>10</td>\n",
       "      <td>CAS_7723-14-0</td>\n",
       "      <td>2009</td>\n",
       "      <td>2009-01--2009-12</td>\n",
       "      <td>FRGR0220</td>\n",
       "      <td>France</td>\n",
       "      <td>71176346.0</td>\n",
       "      <td>0.0</td>\n",
       "      <td>0.000000</td>\n",
       "      <td>32.0</td>\n",
       "      <td>10.0</td>\n",
       "      <td>3.0</td>\n",
       "      <td>26.0</td>\n",
       "      <td>20.0</td>\n",
       "      <td>9.0</td>\n",
       "      <td>0.0</td>\n",
       "      <td>0.0</td>\n",
       "      <td>22.26</td>\n",
       "    </tr>\n",
       "    <tr>\n",
       "      <th>2</th>\n",
       "      <td>17</td>\n",
       "      <td>CAS_14265-44-2</td>\n",
       "      <td>2009</td>\n",
       "      <td>2009-01--2009-12</td>\n",
       "      <td>FRGR1496</td>\n",
       "      <td>France</td>\n",
       "      <td>71176346.0</td>\n",
       "      <td>4.0</td>\n",
       "      <td>0.000000</td>\n",
       "      <td>32.0</td>\n",
       "      <td>10.0</td>\n",
       "      <td>3.0</td>\n",
       "      <td>26.0</td>\n",
       "      <td>20.0</td>\n",
       "      <td>9.0</td>\n",
       "      <td>0.0</td>\n",
       "      <td>0.0</td>\n",
       "      <td>22.26</td>\n",
       "    </tr>\n",
       "    <tr>\n",
       "      <th>3</th>\n",
       "      <td>24</td>\n",
       "      <td>CAS_7723-14-0</td>\n",
       "      <td>2009</td>\n",
       "      <td>2009-01--2009-12</td>\n",
       "      <td>FRDR174</td>\n",
       "      <td>France</td>\n",
       "      <td>71176346.0</td>\n",
       "      <td>0.0</td>\n",
       "      <td>0.000000</td>\n",
       "      <td>32.0</td>\n",
       "      <td>10.0</td>\n",
       "      <td>3.0</td>\n",
       "      <td>26.0</td>\n",
       "      <td>20.0</td>\n",
       "      <td>9.0</td>\n",
       "      <td>0.0</td>\n",
       "      <td>0.0</td>\n",
       "      <td>22.26</td>\n",
       "    </tr>\n",
       "    <tr>\n",
       "      <th>4</th>\n",
       "      <td>34</td>\n",
       "      <td>CAS_7723-14-0</td>\n",
       "      <td>2009</td>\n",
       "      <td>2009-01--2009-12</td>\n",
       "      <td>FRGR1022</td>\n",
       "      <td>France</td>\n",
       "      <td>71176346.0</td>\n",
       "      <td>0.0</td>\n",
       "      <td>0.000000</td>\n",
       "      <td>32.0</td>\n",
       "      <td>10.0</td>\n",
       "      <td>3.0</td>\n",
       "      <td>26.0</td>\n",
       "      <td>20.0</td>\n",
       "      <td>9.0</td>\n",
       "      <td>0.0</td>\n",
       "      <td>0.0</td>\n",
       "      <td>22.26</td>\n",
       "    </tr>\n",
       "  </tbody>\n",
       "</table>\n",
       "</div>"
      ],
      "text/plain": [
       "   Unnamed: 0            code  year            period  \\\n",
       "0           6   CAS_7723-14-0  2009  2009-01--2009-12   \n",
       "1          10   CAS_7723-14-0  2009  2009-01--2009-12   \n",
       "2          17  CAS_14265-44-2  2009  2009-01--2009-12   \n",
       "3          24   CAS_7723-14-0  2009  2009-01--2009-12   \n",
       "4          34   CAS_7723-14-0  2009  2009-01--2009-12   \n",
       "\n",
       "                                 id Country    tourists  venue       rate  \\\n",
       "0  ES014MSPFES-014-NR-038-000-02-02   Spain  50941692.0    4.0  87.158924   \n",
       "1                          FRGR0220  France  71176346.0    0.0   0.000000   \n",
       "2                          FRGR1496  France  71176346.0    4.0   0.000000   \n",
       "3                           FRDR174  France  71176346.0    0.0   0.000000   \n",
       "4                          FRGR1022  France  71176346.0    0.0   0.000000   \n",
       "\n",
       "   food  glass  metal  other  paper  plastic  leather  green_waste  \\\n",
       "0  49.0    8.0    3.0   14.0   15.0      9.0      0.0          0.0   \n",
       "1  32.0   10.0    3.0   26.0   20.0      9.0      0.0          0.0   \n",
       "2  32.0   10.0    3.0   26.0   20.0      9.0      0.0          0.0   \n",
       "3  32.0   10.0    3.0   26.0   20.0      9.0      0.0          0.0   \n",
       "4  32.0   10.0    3.0   26.0   20.0      9.0      0.0          0.0   \n",
       "\n",
       "   waste_recycling  \n",
       "0            16.84  \n",
       "1            22.26  \n",
       "2            22.26  \n",
       "3            22.26  \n",
       "4            22.26  "
      ]
     },
     "execution_count": 29,
     "metadata": {},
     "output_type": "execute_result"
    }
   ],
   "source": [
    "train.head()"
   ]
  },
  {
   "cell_type": "markdown",
   "metadata": {},
   "source": [
    "### Adding the test set and the targets"
   ]
  },
  {
   "cell_type": "code",
   "execution_count": 47,
   "metadata": {},
   "outputs": [
    {
     "data": {
      "text/html": [
       "<div>\n",
       "<style scoped>\n",
       "    .dataframe tbody tr th:only-of-type {\n",
       "        vertical-align: middle;\n",
       "    }\n",
       "\n",
       "    .dataframe tbody tr th {\n",
       "        vertical-align: top;\n",
       "    }\n",
       "\n",
       "    .dataframe thead th {\n",
       "        text-align: right;\n",
       "    }\n",
       "</style>\n",
       "<table border=\"1\" class=\"dataframe\">\n",
       "  <thead>\n",
       "    <tr style=\"text-align: right;\">\n",
       "      <th></th>\n",
       "      <th>code</th>\n",
       "      <th>year</th>\n",
       "      <th>period</th>\n",
       "      <th>id</th>\n",
       "      <th>Country</th>\n",
       "      <th>tourists</th>\n",
       "      <th>venue</th>\n",
       "      <th>rate</th>\n",
       "      <th>food</th>\n",
       "      <th>glass</th>\n",
       "      <th>metal</th>\n",
       "      <th>other</th>\n",
       "      <th>paper</th>\n",
       "      <th>plastic</th>\n",
       "      <th>leather</th>\n",
       "      <th>green_waste</th>\n",
       "      <th>waste_recycling</th>\n",
       "      <th>polution</th>\n",
       "    </tr>\n",
       "  </thead>\n",
       "  <tbody>\n",
       "    <tr>\n",
       "      <th>0</th>\n",
       "      <td>CAS_7723-14-0</td>\n",
       "      <td>2009</td>\n",
       "      <td>2009-01--2009-12</td>\n",
       "      <td>ES014MSPFES-014-NR-038-000-02-02</td>\n",
       "      <td>Spain</td>\n",
       "      <td>50941692.0</td>\n",
       "      <td>4.0</td>\n",
       "      <td>87.158924</td>\n",
       "      <td>49.0</td>\n",
       "      <td>8.0</td>\n",
       "      <td>3.0</td>\n",
       "      <td>14.0</td>\n",
       "      <td>15.0</td>\n",
       "      <td>9.0</td>\n",
       "      <td>0.0</td>\n",
       "      <td>0.0</td>\n",
       "      <td>16.84</td>\n",
       "      <td>0.013212</td>\n",
       "    </tr>\n",
       "    <tr>\n",
       "      <th>1</th>\n",
       "      <td>CAS_7723-14-0</td>\n",
       "      <td>2009</td>\n",
       "      <td>2009-01--2009-12</td>\n",
       "      <td>FRGR0220</td>\n",
       "      <td>France</td>\n",
       "      <td>71176346.0</td>\n",
       "      <td>0.0</td>\n",
       "      <td>0.000000</td>\n",
       "      <td>32.0</td>\n",
       "      <td>10.0</td>\n",
       "      <td>3.0</td>\n",
       "      <td>26.0</td>\n",
       "      <td>20.0</td>\n",
       "      <td>9.0</td>\n",
       "      <td>0.0</td>\n",
       "      <td>0.0</td>\n",
       "      <td>22.26</td>\n",
       "      <td>0.057482</td>\n",
       "    </tr>\n",
       "    <tr>\n",
       "      <th>2</th>\n",
       "      <td>CAS_14265-44-2</td>\n",
       "      <td>2009</td>\n",
       "      <td>2009-01--2009-12</td>\n",
       "      <td>FRGR1496</td>\n",
       "      <td>France</td>\n",
       "      <td>71176346.0</td>\n",
       "      <td>4.0</td>\n",
       "      <td>0.000000</td>\n",
       "      <td>32.0</td>\n",
       "      <td>10.0</td>\n",
       "      <td>3.0</td>\n",
       "      <td>26.0</td>\n",
       "      <td>20.0</td>\n",
       "      <td>9.0</td>\n",
       "      <td>0.0</td>\n",
       "      <td>0.0</td>\n",
       "      <td>22.26</td>\n",
       "      <td>0.037835</td>\n",
       "    </tr>\n",
       "    <tr>\n",
       "      <th>3</th>\n",
       "      <td>CAS_7723-14-0</td>\n",
       "      <td>2009</td>\n",
       "      <td>2009-01--2009-12</td>\n",
       "      <td>FRDR174</td>\n",
       "      <td>France</td>\n",
       "      <td>71176346.0</td>\n",
       "      <td>0.0</td>\n",
       "      <td>0.000000</td>\n",
       "      <td>32.0</td>\n",
       "      <td>10.0</td>\n",
       "      <td>3.0</td>\n",
       "      <td>26.0</td>\n",
       "      <td>20.0</td>\n",
       "      <td>9.0</td>\n",
       "      <td>0.0</td>\n",
       "      <td>0.0</td>\n",
       "      <td>22.26</td>\n",
       "      <td>0.055119</td>\n",
       "    </tr>\n",
       "    <tr>\n",
       "      <th>4</th>\n",
       "      <td>CAS_7723-14-0</td>\n",
       "      <td>2009</td>\n",
       "      <td>2009-01--2009-12</td>\n",
       "      <td>FRGR1022</td>\n",
       "      <td>France</td>\n",
       "      <td>71176346.0</td>\n",
       "      <td>0.0</td>\n",
       "      <td>0.000000</td>\n",
       "      <td>32.0</td>\n",
       "      <td>10.0</td>\n",
       "      <td>3.0</td>\n",
       "      <td>26.0</td>\n",
       "      <td>20.0</td>\n",
       "      <td>9.0</td>\n",
       "      <td>0.0</td>\n",
       "      <td>0.0</td>\n",
       "      <td>22.26</td>\n",
       "      <td>0.037617</td>\n",
       "    </tr>\n",
       "  </tbody>\n",
       "</table>\n",
       "</div>"
      ],
      "text/plain": [
       "             code  year            period                                id  \\\n",
       "0   CAS_7723-14-0  2009  2009-01--2009-12  ES014MSPFES-014-NR-038-000-02-02   \n",
       "1   CAS_7723-14-0  2009  2009-01--2009-12                          FRGR0220   \n",
       "2  CAS_14265-44-2  2009  2009-01--2009-12                          FRGR1496   \n",
       "3   CAS_7723-14-0  2009  2009-01--2009-12                           FRDR174   \n",
       "4   CAS_7723-14-0  2009  2009-01--2009-12                          FRGR1022   \n",
       "\n",
       "  Country    tourists  venue       rate  food  glass  metal  other  paper  \\\n",
       "0   Spain  50941692.0    4.0  87.158924  49.0    8.0    3.0   14.0   15.0   \n",
       "1  France  71176346.0    0.0   0.000000  32.0   10.0    3.0   26.0   20.0   \n",
       "2  France  71176346.0    4.0   0.000000  32.0   10.0    3.0   26.0   20.0   \n",
       "3  France  71176346.0    0.0   0.000000  32.0   10.0    3.0   26.0   20.0   \n",
       "4  France  71176346.0    0.0   0.000000  32.0   10.0    3.0   26.0   20.0   \n",
       "\n",
       "   plastic  leather  green_waste  waste_recycling  polution  \n",
       "0      9.0      0.0          0.0            16.84  0.013212  \n",
       "1      9.0      0.0          0.0            22.26  0.057482  \n",
       "2      9.0      0.0          0.0            22.26  0.037835  \n",
       "3      9.0      0.0          0.0            22.26  0.055119  \n",
       "4      9.0      0.0          0.0            22.26  0.037617  "
      ]
     },
     "execution_count": 47,
     "metadata": {},
     "output_type": "execute_result"
    }
   ],
   "source": [
    "df = pd.concat([train, test])\n",
    "targets = pd.concat([target, submission])\n",
    "\n",
    "df['polution'] = targets['polution']\n",
    "df = df.drop(columns = ['Unnamed: 0'])\n",
    "df.head()"
   ]
  },
  {
   "cell_type": "markdown",
   "metadata": {},
   "source": [
    "## Data cleaning"
   ]
  },
  {
   "cell_type": "code",
   "execution_count": 30,
   "metadata": {},
   "outputs": [
    {
     "name": "stdout",
     "output_type": "stream",
     "text": [
      "DataFrame shape :  (2318, 18)\n"
     ]
    }
   ],
   "source": [
    "print(\"DataFrame shape : \",train.shape)"
   ]
  },
  {
   "cell_type": "code",
   "execution_count": 31,
   "metadata": {},
   "outputs": [
    {
     "name": "stdout",
     "output_type": "stream",
     "text": [
      "Column name dictionnary : \n",
      "{'Unnamed: 0': 0, 'code': 1, 'year': 2, 'period': 3, 'id': 4, 'Country': 5, 'tourists': 6, 'venue': 7, 'rate': 8, 'food': 9, 'glass': 10, 'metal': 11, 'other': 12, 'paper': 13, 'plastic': 14, 'leather': 15, 'green_waste': 16, 'waste_recycling': 17}\n"
     ]
    }
   ],
   "source": [
    "print(\"Column name dictionnary : \")\n",
    "column_names_dict = {column: index for index, column in enumerate(train.columns)}\n",
    "print(column_names_dict)"
   ]
  },
  {
   "cell_type": "markdown",
   "metadata": {},
   "source": [
    "### Searching for missing values"
   ]
  },
  {
   "cell_type": "code",
   "execution_count": 32,
   "metadata": {},
   "outputs": [
    {
     "name": "stdout",
     "output_type": "stream",
     "text": [
      "\n",
      "Total missing values in each column:\n",
      "Unnamed: 0          0\n",
      "code                0\n",
      "year                0\n",
      "period              0\n",
      "id                  0\n",
      "Country            17\n",
      "tourists            0\n",
      "venue               0\n",
      "rate                0\n",
      "food                0\n",
      "glass               0\n",
      "metal               0\n",
      "other               0\n",
      "paper               0\n",
      "plastic             0\n",
      "leather             0\n",
      "green_waste         0\n",
      "waste_recycling     0\n",
      "dtype: int64\n"
     ]
    }
   ],
   "source": [
    "def cheking_for_missing_values() : \n",
    "    missing_values = train.isnull().sum()\n",
    "    print(\"\\nTotal missing values in each column:\")\n",
    "    print(missing_values)\n",
    "\n",
    "cheking_for_missing_values()"
   ]
  },
  {
   "cell_type": "code",
   "execution_count": 33,
   "metadata": {},
   "outputs": [
    {
     "name": "stdout",
     "output_type": "stream",
     "text": [
      "\n",
      "Total missing values in each column:\n",
      "Unnamed: 0         0\n",
      "code               0\n",
      "year               0\n",
      "period             0\n",
      "id                 0\n",
      "Country            0\n",
      "tourists           0\n",
      "venue              0\n",
      "rate               0\n",
      "food               0\n",
      "glass              0\n",
      "metal              0\n",
      "other              0\n",
      "paper              0\n",
      "plastic            0\n",
      "leather            0\n",
      "green_waste        0\n",
      "waste_recycling    0\n",
      "dtype: int64\n"
     ]
    }
   ],
   "source": [
    "train = train.dropna()\n",
    "cheking_for_missing_values()"
   ]
  },
  {
   "cell_type": "markdown",
   "metadata": {},
   "source": [
    "### Drop any duplicate"
   ]
  },
  {
   "cell_type": "code",
   "execution_count": 35,
   "metadata": {},
   "outputs": [],
   "source": [
    "train.drop_duplicates(inplace=True)"
   ]
  },
  {
   "cell_type": "code",
   "execution_count": null,
   "metadata": {},
   "outputs": [],
   "source": []
  }
 ],
 "metadata": {
  "kernelspec": {
   "display_name": "pyA4S1",
   "language": "python",
   "name": "python3"
  },
  "language_info": {
   "codemirror_mode": {
    "name": "ipython",
    "version": 3
   },
   "file_extension": ".py",
   "mimetype": "text/x-python",
   "name": "python",
   "nbconvert_exporter": "python",
   "pygments_lexer": "ipython3",
   "version": "3.8.17"
  }
 },
 "nbformat": 4,
 "nbformat_minor": 2
}
